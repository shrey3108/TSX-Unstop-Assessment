{
 "cells": [
  {
   "cell_type": "code",
   "execution_count": 1,
   "id": "5bf2a462",
   "metadata": {},
   "outputs": [
    {
     "name": "stdout",
     "output_type": "stream",
     "text": [
      "Hello! My name is Shrey Shukla. Nice to meet you!\n"
     ]
    }
   ],
   "source": [
    "print(\"Hello! My name is Shrey Shukla. Nice to meet you!\")\n"
   ]
  },
  {
   "cell_type": "code",
   "execution_count": 2,
   "id": "c8e39bb6",
   "metadata": {},
   "outputs": [
    {
     "name": "stdout",
     "output_type": "stream",
     "text": [
      "Shrey Shukla\n",
      "Welcome to Python Programming!\n"
     ]
    }
   ],
   "source": [
    "# This script prints my name and a greeting\n",
    "\n",
    "# Printing name\n",
    "print(\"Shrey Shukla\")\n",
    "\n",
    "# Printing greeting\n",
    "print(\"Welcome to Python Programming!\")\n"
   ]
  },
  {
   "cell_type": "code",
   "execution_count": null,
   "id": "4b965e32",
   "metadata": {},
   "outputs": [],
   "source": []
  }
 ],
 "metadata": {
  "kernelspec": {
   "display_name": "Python 3 (ipykernel)",
   "language": "python",
   "name": "python3"
  },
  "language_info": {
   "codemirror_mode": {
    "name": "ipython",
    "version": 3
   },
   "file_extension": ".py",
   "mimetype": "text/x-python",
   "name": "python",
   "nbconvert_exporter": "python",
   "pygments_lexer": "ipython3",
   "version": "3.11.5"
  }
 },
 "nbformat": 4,
 "nbformat_minor": 5
}
